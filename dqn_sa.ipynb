{
 "cells": [
  {
   "cell_type": "markdown",
   "metadata": {},
   "source": [
    "# Text Semtiment Analysis via Deep Reinforcement Learning"
   ]
  },
  {
   "cell_type": "code",
   "execution_count": 1,
   "metadata": {},
   "outputs": [
    {
     "name": "stderr",
     "output_type": "stream",
     "text": [
      "C:\\Users\\TomJx\\Anaconda3\\lib\\site-packages\\tensorflow\\python\\framework\\dtypes.py:523: FutureWarning: Passing (type, 1) or '1type' as a synonym of type is deprecated; in a future version of numpy, it will be understood as (type, (1,)) / '(1,)type'.\n",
      "  _np_qint8 = np.dtype([(\"qint8\", np.int8, 1)])\n",
      "C:\\Users\\TomJx\\Anaconda3\\lib\\site-packages\\tensorflow\\python\\framework\\dtypes.py:524: FutureWarning: Passing (type, 1) or '1type' as a synonym of type is deprecated; in a future version of numpy, it will be understood as (type, (1,)) / '(1,)type'.\n",
      "  _np_quint8 = np.dtype([(\"quint8\", np.uint8, 1)])\n",
      "C:\\Users\\TomJx\\Anaconda3\\lib\\site-packages\\tensorflow\\python\\framework\\dtypes.py:525: FutureWarning: Passing (type, 1) or '1type' as a synonym of type is deprecated; in a future version of numpy, it will be understood as (type, (1,)) / '(1,)type'.\n",
      "  _np_qint16 = np.dtype([(\"qint16\", np.int16, 1)])\n",
      "C:\\Users\\TomJx\\Anaconda3\\lib\\site-packages\\tensorflow\\python\\framework\\dtypes.py:526: FutureWarning: Passing (type, 1) or '1type' as a synonym of type is deprecated; in a future version of numpy, it will be understood as (type, (1,)) / '(1,)type'.\n",
      "  _np_quint16 = np.dtype([(\"quint16\", np.uint16, 1)])\n",
      "C:\\Users\\TomJx\\Anaconda3\\lib\\site-packages\\tensorflow\\python\\framework\\dtypes.py:527: FutureWarning: Passing (type, 1) or '1type' as a synonym of type is deprecated; in a future version of numpy, it will be understood as (type, (1,)) / '(1,)type'.\n",
      "  _np_qint32 = np.dtype([(\"qint32\", np.int32, 1)])\n",
      "C:\\Users\\TomJx\\Anaconda3\\lib\\site-packages\\tensorflow\\python\\framework\\dtypes.py:532: FutureWarning: Passing (type, 1) or '1type' as a synonym of type is deprecated; in a future version of numpy, it will be understood as (type, (1,)) / '(1,)type'.\n",
      "  np_resource = np.dtype([(\"resource\", np.ubyte, 1)])\n",
      "C:\\Users\\TomJx\\Anaconda3\\lib\\site-packages\\gensim\\utils.py:1212: UserWarning: detected Windows; aliasing chunkize to chunkize_serial\n",
      "  warnings.warn(\"detected Windows; aliasing chunkize to chunkize_serial\")\n"
     ]
    }
   ],
   "source": [
    "import os\n",
    "import jieba\n",
    "import pickle\n",
    "import pydot\n",
    "import random\n",
    "import time\n",
    "import numpy as np\n",
    "import pandas as pd\n",
    "import tensorflow as tf\n",
    "import matplotlib.pyplot as plt\n",
    "from collections import deque\n",
    "from gensim.models.keyedvectors import KeyedVectors\n",
    "from gensim.models.word2vec import Word2Vec\n",
    "from IPython.display import Image\n",
    "from sklearn.metrics import accuracy_score, recall_score, precision_score, f1_score, confusion_matrix\n",
    "from sklearn.model_selection import train_test_split\n",
    "from tqdm import tqdm"
   ]
  },
  {
   "cell_type": "code",
   "execution_count": 2,
   "metadata": {},
   "outputs": [
    {
     "data": {
      "text/plain": [
       "'1.12.0'"
      ]
     },
     "execution_count": 2,
     "metadata": {},
     "output_type": "execute_result"
    }
   ],
   "source": [
    "tf.__version__"
   ]
  },
  {
   "cell_type": "markdown",
   "metadata": {},
   "source": [
    "This dataset is released in NLPCC2014\n",
    "http://tcci.ccf.org.cn/conference/2014/index.html"
   ]
  },
  {
   "cell_type": "code",
   "execution_count": 3,
   "metadata": {},
   "outputs": [
    {
     "name": "stdout",
     "output_type": "stream",
     "text": [
      "comments: 119988\n",
      "positive samples: 59993\n",
      "negative samples: 59995\n"
     ]
    }
   ],
   "source": [
    "with open(r'./weibo_senti_100k/weibo_senti_100k.csv', 'r', encoding='utf-8') as handle:\n",
    "    df = pd.read_csv(handle)\n",
    "print('comments: %d' % df.shape[0])\n",
    "print('positive samples: %d' % df[df.label==1].shape[0])\n",
    "print('negative samples: %d' % df[df.label==0].shape[0])"
   ]
  },
  {
   "cell_type": "code",
   "execution_count": 4,
   "metadata": {},
   "outputs": [
    {
     "name": "stdout",
     "output_type": "stream",
     "text": [
      "Actions: 2\n",
      "Train set: 95990, Test set: 23998\n"
     ]
    }
   ],
   "source": [
    "comments = df['review'].tolist()\n",
    "sentiments = df['label'].tolist()\n",
    "num_actions = len(set(sentiments))\n",
    "x_train, x_test, y_train, y_test = train_test_split(comments, sentiments, test_size=0.2, random_state=42)\n",
    "print('Actions: {}'.format(num_actions))\n",
    "print('Train set: {}, Test set: {}'.format(len(y_train), len(y_test)))"
   ]
  },
  {
   "cell_type": "markdown",
   "metadata": {},
   "source": [
    "#### Pretrain word embeddings via Word2Vec"
   ]
  },
  {
   "cell_type": "code",
   "execution_count": 5,
   "metadata": {},
   "outputs": [],
   "source": [
    "def seg_word(doc):\n",
    "    seg_list = jieba.cut(doc, cut_all=False)\n",
    "    return list(seg_list)\n",
    "\n",
    "def get_char(arr):\n",
    "    res = []\n",
    "    for c in arr:\n",
    "        res.append(c)\n",
    "    return list(res)"
   ]
  },
  {
   "cell_type": "code",
   "execution_count": 6,
   "metadata": {},
   "outputs": [],
   "source": [
    "# Segment\n",
    "comments_seg = [get_char(x) for x in comments]\n",
    "train_seg = [get_char(x) for x in x_train]\n",
    "test_seg = [get_char(x) for x in x_test]"
   ]
  },
  {
   "cell_type": "code",
   "execution_count": 7,
   "metadata": {},
   "outputs": [],
   "source": [
    "if not os.path.exists(r'./token/chars.vector'):\n",
    "    word2vec_model = Word2Vec(comments_seg, size=100, window=10, min_count=1, workers=4, iter=15)\n",
    "    word2vec_model.wv.save_word2vec_format(r'./token/chars.vector', binary=True)"
   ]
  },
  {
   "cell_type": "code",
   "execution_count": 8,
   "metadata": {},
   "outputs": [],
   "source": [
    "# Take one-hot encoding for sentiment label.\n",
    "actions = np.ones((1, num_actions))\n",
    "\n",
    "tr_one_hot = tf.keras.utils.to_categorical(y_train, num_actions)\n",
    "ts_one_hot = tf.keras.utils.to_categorical(y_test, num_actions)"
   ]
  },
  {
   "cell_type": "markdown",
   "metadata": {},
   "source": [
    "#### Model definition"
   ]
  },
  {
   "cell_type": "code",
   "execution_count": 9,
   "metadata": {},
   "outputs": [],
   "source": [
    "class Network(tf.keras.Model):\n",
    "    '''\n",
    "    Definition of Bi-directional LSTM based model via functional API, using tf.keras.applications.\n",
    "    '''\n",
    "\n",
    "    def __init__(self, action_nums, embeddings_matrix, encode_size=64, maxlen=100, dp_rate=0.2):\n",
    "        super(Network, self).__init__()\n",
    "        self.actions = action_nums # actions\n",
    "        \n",
    "        # Model struction\n",
    "        self.embds = tf.keras.layers.Embedding(embeddings_matrix.shape[0],\n",
    "                                         embeddings_matrix.shape[1],\n",
    "                                         weights=[embeddings_matrix],\n",
    "                                         input_length=maxlen,\n",
    "                                         trainable=True)\n",
    "        self.spatial_dp = tf.keras.layers.SpatialDropout1D(dp_rate)\n",
    "        self.lstm_1 = tf.keras.layers.CuDNNLSTM(encode_size, \n",
    "                                                return_sequences=True)\n",
    "        self.bi_lstm_1 = tf.keras.layers.Bidirectional(self.lstm_1)\n",
    "        self.max_pool = tf.keras.layers.GlobalMaxPool1D()\n",
    "        \n",
    "        self.logits = tf.keras.layers.Dense(self.actions, name='q_outputs')\n",
    "        self.multipy = tf.keras.layers.Multiply()\n",
    "        self.sum = tf.keras.layers.Lambda(lambda x:tf.reduce_sum(x, axis=1,keepdims=True),name='q_value')\n",
    "    def call(self, inputs, training=None):\n",
    "        # Construction\n",
    "        x = inputs[0]\n",
    "        act = inputs[1]\n",
    "        \n",
    "        x = self.embds(x)\n",
    "        x = self.spatial_dp(x)\n",
    "        x = self.bi_lstm_1(x)\n",
    "        x = self.max_pool(x)\n",
    "        logits = self.logits(x)\n",
    "        #q_val = tf.keras.layers.multiply([act, logits])\n",
    "        q_val = self.multipy([act, logits])\n",
    "        q_val = self.sum(q_val)\n",
    "\n",
    "        return q_val"
   ]
  },
  {
   "cell_type": "markdown",
   "metadata": {},
   "source": [
    "#### Environment"
   ]
  },
  {
   "cell_type": "code",
   "execution_count": 10,
   "metadata": {},
   "outputs": [],
   "source": [
    "class Environment(object):\n",
    "    def __init__(self, x, y):\n",
    "        self.train_X = x\n",
    "        self.train_Y = y\n",
    "        self.current_index = self.sample_index()\n",
    "        self.action_space = len(set(y)) - 1\n",
    "        \n",
    "    def reset(self):\n",
    "        '''\n",
    "        Sampling randomly if start or no reward.\n",
    "        '''\n",
    "        obs, _ = self.step(-1)\n",
    "        return obs\n",
    "\n",
    "    def step(self, action):\n",
    "        '''\n",
    "        Return the current reward and a sample as the next state.\n",
    "        '''\n",
    "        if action == -1: # At the begining or no reward at current state.\n",
    "            current_index = self.current_index\n",
    "            self.current_index = self.sample_index()\n",
    "            return (self.train_X[current_index], 0)\n",
    "        r = self.reward(action)\n",
    "        self.current_index = self.sample_index()\n",
    "        return self.train_X[self.current_index], r\n",
    "    \n",
    "    def reward(self, action):\n",
    "        '''\n",
    "        Return reward 1 if the prediction is correct, otherwise return -1.\n",
    "        '''\n",
    "        c = self.train_Y[self.current_index]\n",
    "        return 1 if c==action else -1\n",
    "        \n",
    "    def sample_actions(self):\n",
    "        return random.randint(0, self.action_space)\n",
    "    \n",
    "    def sample_index(self):\n",
    "        return random.randint(0, len(self.train_Y)-1)"
   ]
  },
  {
   "cell_type": "markdown",
   "metadata": {},
   "source": [
    "#### Word embedding"
   ]
  },
  {
   "cell_type": "code",
   "execution_count": 12,
   "metadata": {
    "scrolled": true
   },
   "outputs": [
    {
     "name": "stderr",
     "output_type": "stream",
     "text": [
      "C:\\Users\\TomJx\\Anaconda3\\lib\\site-packages\\ipykernel_launcher.py:15: DeprecationWarning: Call to deprecated `wv` (Attribute will be removed in 4.0.0, use self instead).\n",
      "  from ipykernel import kernelapp as app\n"
     ]
    }
   ],
   "source": [
    "maxlen = 100\n",
    "tokenizer = tf.keras.preprocessing.text.Tokenizer(num_words=None)\n",
    "tokenizer.fit_on_texts(comments_seg)\n",
    "with open(r'./token/tokenizer_chars.pickle', 'wb') as handle:\n",
    "    pickle.dump(tokenizer, handle, protocol=pickle.HIGHEST_PROTOCOL)\n",
    "\n",
    "word_index = tokenizer.word_index\n",
    "w2_model = KeyedVectors.load_word2vec_format(r'./token/chars.vector', \n",
    "                                             binary=True, \n",
    "                                             encoding='utf8',\n",
    "                                             unicode_errors='ignore')\n",
    "embeddings_index = {}\n",
    "embeddings_matrix = np.zeros((len(word_index) + 1, w2_model.vector_size))\n",
    "word2idx = {\"_PAD\": 0}\n",
    "vocab_list = [(k, w2_model.wv[k]) for k, v in w2_model.wv.vocab.items()]\n",
    "\n",
    "for word, i in word_index.items():\n",
    "    if word in w2_model:\n",
    "        embedding_vector = w2_model[word]\n",
    "    else:\n",
    "        embedding_vector = None\n",
    "    if embedding_vector is not None:\n",
    "        embeddings_matrix[i] = embedding_vector\n",
    "list_tokenized_train = tokenizer.texts_to_sequences(train_seg)\n",
    "\n",
    "# Train data max length is set to 100\n",
    "input_train = tf.keras.preprocessing.sequence.pad_sequences(list_tokenized_train, \n",
    "                                                            maxlen=maxlen)\n",
    "\n",
    "list_tokenized_validation = tokenizer.texts_to_sequences(test_seg)\n",
    "\n",
    "# Test data max length is set to 100\n",
    "input_validation = tf.keras.preprocessing.sequence.pad_sequences(list_tokenized_validation, \n",
    "                                          maxlen=maxlen)"
   ]
  },
  {
   "cell_type": "code",
   "execution_count": 13,
   "metadata": {},
   "outputs": [],
   "source": [
    "ENV = Environment(input_train, y_train)\n",
    "ALPHA = 0.5\n",
    "BATCH_SIZE = 32\n",
    "EPOCHS = 3000\n",
    "EPSILON_TOTAL = 2020\n",
    "PRE_TRAIN_NUMS = 16\n",
    "QUE = deque(maxlen=32)\n",
    "TRAIN_STEPS = 64\n",
    "TRANSFER_STEP = 16"
   ]
  },
  {
   "cell_type": "code",
   "execution_count": null,
   "metadata": {},
   "outputs": [],
   "source": [
    "def train(samples):\n",
    "    if len(samples) < BATCH_SIZE:\n",
    "        return \n",
    "\n",
    "    samples = np.array(samples)\n",
    "    states, actions, old_q, rewards, next_states = zip(*samples)\n",
    "    states, actions, old_q, rewards = np.array(states),np.array(actions).reshape(-1,1),\\\n",
    "                                    np.array(old_q).reshape(-1,1),np.array(rewards).reshape(-1,1)\n",
    "    actions_one_hot = tf.keras.utils.to_categorical(actions, num_actions)\n",
    "\n",
    "    q_estimate = (1-ALPHA) * old_q +  ALPHA * rewards.reshape(-1,1)\n",
    "    history = critic_model.fit([states,actions_one_hot],q_estimate, batch_size=BATCH_SIZE, epochs=1,verbose=0, shuffle=True)\n",
    "    return np.mean(history.history['loss'])"
   ]
  },
  {
   "cell_type": "code",
   "execution_count": 17,
   "metadata": {},
   "outputs": [],
   "source": [
    "def get_q_values(model, state):\n",
    "    inputs = [state.reshape(1,*state.shape),actions]\n",
    "    qvalues = model.predict(inputs)\n",
    "    return qvalues[0]\n",
    "\n",
    "\n",
    "def predict(model, inputs):\n",
    "    '''\n",
    "    Return the position of the max q_outputs as the prediction.\n",
    "    '''\n",
    "    q_outputs = model.predict(inputs)\n",
    "    return np.argmax(q_outputs, axis=1)\n",
    "\n",
    "\n",
    "def epsilon_calc(step, ep_min=0.01,ep_max=1, esp_total = 1000):\n",
    "    return max(ep_min, ep_max - (ep_max - ep_min)*step/esp_total )\n",
    "\n",
    "\n",
    "def epsilon_greedy(env, state, step, ep_min=0.01, ep_total=1000):\n",
    "    epsilon = epsilon_calc(step, ep_min, 1, ep_total)\n",
    "    if np.random.rand()<epsilon:\n",
    "        return env.sample_actions(), 0\n",
    "    qvalues = get_q_values(actor_q_model, state)\n",
    "    return np.argmax(qvalues), np.max(qvalues)\n",
    "\n",
    "\n",
    "def pre_enque(pre_go=30):\n",
    "    state = ENV.reset()\n",
    "    for i in range(pre_go):\n",
    "        rdn_action = ENV.sample_actions()\n",
    "        next_state, reward = ENV.step(rdn_action)\n",
    "        QUE.append([state, rdn_action, 0, reward, next_state])\n",
    "        state = next_state"
   ]
  },
  {
   "cell_type": "code",
   "execution_count": 18,
   "metadata": {},
   "outputs": [],
   "source": [
    "# Network input layers\n",
    "inputs = tf.keras.Input(shape=(maxlen,), \n",
    "                        name='embds_input')\n",
    "act_input = tf.keras.Input((num_actions,),\n",
    "                      name='actions_input')"
   ]
  },
  {
   "cell_type": "code",
   "execution_count": 19,
   "metadata": {},
   "outputs": [],
   "source": [
    "# Actor-Critic\n",
    "\n",
    "# Train\n",
    "critic_model = Network(num_actions, embeddings_matrix)\n",
    "_ = critic_model(inputs=[inputs, act_input])\n",
    "critic_model.compile(loss='mse',optimizer='adam')\n",
    "\n",
    "# Decision\n",
    "actor_q_model = tf.keras.Model(inputs=critic_model.input, outputs=critic_model.get_layer('q_outputs').output)"
   ]
  },
  {
   "cell_type": "code",
   "execution_count": 20,
   "metadata": {},
   "outputs": [],
   "source": [
    "QUE.clear()\n",
    "total_rewards = 0\n",
    "reward_rec = []\n",
    "pre_enque(PRE_TRAIN_NUMS)"
   ]
  },
  {
   "cell_type": "code",
   "execution_count": 21,
   "metadata": {
    "scrolled": true
   },
   "outputs": [
    {
     "name": "stderr",
     "output_type": "stream",
     "text": [
      "  0%|                                                                                         | 0/3000 [00:00<?, ?it/s]C:\\Users\\TomJx\\Anaconda3\\lib\\site-packages\\tensorflow\\python\\ops\\gradients_impl.py:112: UserWarning: Converting sparse IndexedSlices to a dense Tensor of unknown shape. This may consume a large amount of memory.\n",
      "  \"Converting sparse IndexedSlices to a dense Tensor of unknown shape. \"\n",
      "Reward:56 Loss:0.0393 Epsilon:0.010 Time:5 : 100%|███████████████████████████████| 3000/3000 [2:19:20<00:00,  2.79s/it]\n"
     ]
    }
   ],
   "source": [
    "# Training\n",
    "\n",
    "process_bar = tqdm(range(1, EPOCHS + 1))\n",
    "state = ENV.reset()\n",
    "for epoch in process_bar:\n",
    "    total_rewards = 0\n",
    "    epo_start = time.time()\n",
    "    for step in range(TRAIN_STEPS):\n",
    "        # Epsilon greedy for each state\n",
    "        action, q = epsilon_greedy(ENV, state, epoch, ep_min=0.01,\n",
    "                                   ep_total=EPSILON_TOTAL)\n",
    "        eps = epsilon_calc(epoch, esp_total=EPSILON_TOTAL)\n",
    "        # Obtain the current reward and next state.\n",
    "        next_state, reward = ENV.step(action)\n",
    "        # Add the above contain into a queue\n",
    "        QUE.append([state, action, q, reward, next_state])\n",
    "        # Train\n",
    "        loss = train(QUE)\n",
    "        total_rewards += reward\n",
    "        state = next_state\n",
    "        if step % TRANSFER_STEP == 0:\n",
    "            actor_q_model = tf.keras.Model(inputs=critic_model.input,\n",
    "                                           outputs=critic_model.get_layer('q_outputs').output)\n",
    "    reward_rec.append(total_rewards)\n",
    "    process_bar.set_description('Reward:{} Loss:{:.4f} Epsilon:{:.3f} Time:{} '.format(total_rewards, loss, eps,int(time.time() - epo_start)))"
   ]
  },
  {
   "cell_type": "code",
   "execution_count": 22,
   "metadata": {},
   "outputs": [
    {
     "name": "stdout",
     "output_type": "stream",
     "text": [
      "WARNING:tensorflow:This model was compiled with a Keras optimizer (<tensorflow.python.keras.optimizers.Adam object at 0x0000028E14080668>) but is being saved in TensorFlow format with `save_weights`. The model's weights will be saved, but unlike with TensorFlow optimizers in the TensorFlow format the optimizer's state will not be saved.\n",
      "\n",
      "Consider using a TensorFlow optimizer from `tf.train`.\n"
     ]
    }
   ],
   "source": [
    "# Save model\n",
    "critic_model.save_weights(r'./saved_model/DRL/crtic_3000.HDF5')"
   ]
  },
  {
   "cell_type": "code",
   "execution_count": 51,
   "metadata": {
    "scrolled": true
   },
   "outputs": [
    {
     "data": {
      "text/plain": [
       "Text(0, 0.5, 'Rewards')"
      ]
     },
     "execution_count": 51,
     "metadata": {},
     "output_type": "execute_result"
    },
    {
     "data": {
      "image/png": "[encoded data removed]",
      "text/plain": [
       "<Figure size 432x288 with 1 Axes>"
      ]
     },
     "metadata": {
      "needs_background": "light"
     },
     "output_type": "display_data"
    }
   ],
   "source": [
    "cruve = np.mean([reward_rec[i:i+10] for i in range(0,len(reward_rec),10)],axis=1)\n",
    "plt.plot(range(len(cruve)), cruve, c='b')\n",
    "plt.xlabel(r'Epochs $ \\times 10$')\n",
    "plt.ylabel('Rewards')"
   ]
  },
  {
   "cell_type": "code",
   "execution_count": 24,
   "metadata": {},
   "outputs": [
    {
     "data": {
      "text/plain": [
       "<tensorflow.python.training.checkpointable.util.CheckpointLoadStatus at 0x28f9fddb128>"
      ]
     },
     "execution_count": 24,
     "metadata": {},
     "output_type": "execute_result"
    }
   ],
   "source": [
    "# Load model\n",
    "critic_model = Network(num_actions, embeddings_matrix)\n",
    "_ = model_loaded(inputs=[inputs, act_input])\n",
    "critic_model.load_weights(r'./saved_model/DRL/crtic_3000.HDF5')"
   ]
  },
  {
   "cell_type": "code",
   "execution_count": 25,
   "metadata": {},
   "outputs": [],
   "source": [
    "actor_q_model = tf.keras.Model(inputs=critic_model.input, outputs=critic_model.get_layer('q_outputs').output)"
   ]
  },
  {
   "cell_type": "code",
   "execution_count": 40,
   "metadata": {},
   "outputs": [],
   "source": [
    "def metrics(y_test, pred):\n",
    "    '''\n",
    "    Evaluate the trained model.\n",
    "    '''\n",
    "    acc = accuracy_score(y_test,pred)\n",
    "    precision = precision_score(y_test, pred, average='macro')\n",
    "    recall = recall_score(y_test, pred, average='macro')\n",
    "    f1 = f1_score(y_test, pred, average='macro')\n",
    "    print('acc: {}, macro pre: {}, macro rec: {}, macro f1: {}'.format(acc, precision, recall, f1))\n",
    "    confuse_mat = confusion_matrix(y_test, pred)\n",
    "    print('confuse matrix: \\n {}'.format(confuse_mat))"
   ]
  },
  {
   "cell_type": "code",
   "execution_count": 41,
   "metadata": {},
   "outputs": [
    {
     "name": "stdout",
     "output_type": "stream",
     "text": [
      "On validate data: \n",
      "acc: 0.9654554546212184, macro pre: 0.9657751791396896, macro rec: 0.9656634237518212, macro f1: 0.9654550006026692\n",
      "confuse matrix: \n",
      " [[11628   216]\n",
      " [  613 11541]]\n"
     ]
    }
   ],
   "source": [
    "ones = np.ones(shape=(len(test_seg),num_actions))\n",
    "pred = predict(actor_q_model, (input_validation, ones))\n",
    "print('On validate data: ')\n",
    "metrics(y_test, pred)"
   ]
  },
  {
   "cell_type": "code",
   "execution_count": 42,
   "metadata": {
    "scrolled": true
   },
   "outputs": [
    {
     "name": "stdout",
     "output_type": "stream",
     "text": [
      "On train data: \n",
      "acc: 0.9685904781748099, macro pre: 0.9690694079981084, macro rec: 0.9685406068498181, macro f1: 0.9685797344572546\n",
      "confuse matrix: \n",
      " [[47375   776]\n",
      " [ 2239 45600]]\n"
     ]
    }
   ],
   "source": [
    "ones_tr = np.ones(shape=(len(train_seg), num_actions))\n",
    "pred_tr = predict(actor_q_model, (input_train, ones_tr))\n",
    "print('On train data: ')\n",
    "metrics(y_train, pred_tr)"
   ]
  },
  {
   "cell_type": "markdown",
   "metadata": {},
   "source": [
    "#### Trained by LSTM"
   ]
  },
  {
   "cell_type": "code",
   "execution_count": 33,
   "metadata": {},
   "outputs": [],
   "source": [
    "class LSTM(tf.keras.Model):\n",
    "    '''\n",
    "    Definition of Bi-directional LSTM based model via functional API, using tf.keras.applications.\n",
    "    '''\n",
    "\n",
    "    def __init__(self, class_nums, embeddings_matrix, encode_size=64, maxlen=100, conv_filters=64, dp_rate=0.2):\n",
    "        super(LSTM, self).__init__()\n",
    "        self.classes = class_nums # actions\n",
    "        \n",
    "        # Model struction\n",
    "        self.embds = tf.keras.layers.Embedding(len(word_index) + 1,\n",
    "                                         embeddings_matrix.shape[1],\n",
    "                                         weights=[embeddings_matrix],\n",
    "                                         input_length=maxlen,\n",
    "                                         trainable=True)\n",
    "        self.spatial_dp = tf.keras.layers.SpatialDropout1D(dp_rate)\n",
    "        self.lstm_1 = tf.keras.layers.CuDNNLSTM(encode_size, \n",
    "                                                return_sequences=True)\n",
    "        self.bi_lstm_1 = tf.keras.layers.Bidirectional(self.lstm_1)\n",
    "        self.max_pool = tf.keras.layers.GlobalMaxPool1D()\n",
    "        \n",
    "        self.logits = tf.keras.layers.Dense(self.classes, name='logits', activation='softmax')\n",
    "\n",
    "    def call(self, inputs, training=None):\n",
    "        # Construction\n",
    "        x = inputs     \n",
    "        x = self.embds(x)\n",
    "        x = self.spatial_dp(x)\n",
    "        x = self.bi_lstm_1(x)\n",
    "        x = self.max_pool(x)\n",
    "        logits = self.logits(x)\n",
    "\n",
    "        return logits"
   ]
  },
  {
   "cell_type": "code",
   "execution_count": 34,
   "metadata": {},
   "outputs": [],
   "source": [
    "class_nums = 2\n",
    "lstm = LSTM(class_nums, embeddings_matrix)\n",
    "_ = lstm(inputs=inputs)\n",
    "adam = tf.keras.optimizers.Adam(lr=0.001, beta_1=0.9, beta_2=0.999, epsilon=1e-08)\n",
    "rmsprop = tf.keras.optimizers.RMSprop(lr=0.001, rho=0.9, epsilon=1e-06)\n",
    "lstm.compile(loss='categorical_crossentropy',optimizer=adam)"
   ]
  },
  {
   "cell_type": "code",
   "execution_count": 35,
   "metadata": {
    "scrolled": true
   },
   "outputs": [
    {
     "name": "stderr",
     "output_type": "stream",
     "text": [
      "C:\\Users\\TomJx\\Anaconda3\\lib\\site-packages\\tensorflow\\python\\ops\\gradients_impl.py:112: UserWarning: Converting sparse IndexedSlices to a dense Tensor of unknown shape. This may consume a large amount of memory.\n",
      "  \"Converting sparse IndexedSlices to a dense Tensor of unknown shape. \"\n"
     ]
    },
    {
     "name": "stdout",
     "output_type": "stream",
     "text": [
      "Epoch 1/20\n",
      "95990/95990 [==============================] - 46s 477us/step - loss: 0.1068\n",
      "Epoch 2/20\n",
      "95990/95990 [==============================] - 46s 484us/step - loss: 0.0845\n",
      "Epoch 3/20\n",
      "95990/95990 [==============================] - 47s 485us/step - loss: 0.0817\n",
      "Epoch 4/20\n",
      "95990/95990 [==============================] - 47s 486us/step - loss: 0.0792\n",
      "Epoch 5/20\n",
      "95990/95990 [==============================] - 46s 484us/step - loss: 0.0776\n",
      "Epoch 6/20\n",
      "95990/95990 [==============================] - 47s 485us/step - loss: 0.0758\n",
      "Epoch 7/20\n",
      "95990/95990 [==============================] - 46s 484us/step - loss: 0.0752\n",
      "Epoch 8/20\n",
      "95990/95990 [==============================] - 47s 485us/step - loss: 0.0737\n",
      "Epoch 9/20\n",
      "95990/95990 [==============================] - 47s 487us/step - loss: 0.0725\n",
      "Epoch 10/20\n",
      "95990/95990 [==============================] - 47s 484us/step - loss: 0.0720\n",
      "Epoch 11/20\n",
      "95990/95990 [==============================] - 47s 487us/step - loss: 0.0705\n",
      "Epoch 12/20\n",
      "95990/95990 [==============================] - 47s 485us/step - loss: 0.0696\n",
      "Epoch 13/20\n",
      "95990/95990 [==============================] - 47s 486us/step - loss: 0.0680\n",
      "Epoch 14/20\n",
      "95990/95990 [==============================] - 47s 491us/step - loss: 0.0672\n",
      "Epoch 15/20\n",
      "95990/95990 [==============================] - 47s 486us/step - loss: 0.0664\n",
      "Epoch 16/20\n",
      "95990/95990 [==============================] - 46s 482us/step - loss: 0.0651\n",
      "Epoch 17/20\n",
      "95990/95990 [==============================] - 46s 484us/step - loss: 0.0653\n",
      "Epoch 18/20\n",
      "95990/95990 [==============================] - 47s 487us/step - loss: 0.0642\n",
      "Epoch 19/20\n",
      "95990/95990 [==============================] - 46s 482us/step - loss: 0.0635\n",
      "Epoch 20/20\n",
      "95990/95990 [==============================] - 46s 484us/step - loss: 0.0628\n"
     ]
    },
    {
     "data": {
      "text/plain": [
       "<tensorflow.python.keras.callbacks.History at 0x1f706e9d2b0>"
      ]
     },
     "execution_count": 35,
     "metadata": {},
     "output_type": "execute_result"
    }
   ],
   "source": [
    "lstm.fit(input_train, tr_one_hot, batch_size=32, epochs=20, verbose=1, shuffle=True)"
   ]
  },
  {
   "cell_type": "code",
   "execution_count": 44,
   "metadata": {},
   "outputs": [
    {
     "name": "stdout",
     "output_type": "stream",
     "text": [
      "WARNING:tensorflow:This model was compiled with a Keras optimizer (<tensorflow.python.keras.optimizers.Adam object at 0x000001F706EB4E10>) but is being saved in TensorFlow format with `save_weights`. The model's weights will be saved, but unlike with TensorFlow optimizers in the TensorFlow format the optimizer's state will not be saved.\n",
      "\n",
      "Consider using a TensorFlow optimizer from `tf.train`.\n"
     ]
    }
   ],
   "source": [
    "# Save model\n",
    "lstm.save_weights(r'./saved_model/LSTM/lstm_20.HDF5')"
   ]
  },
  {
   "cell_type": "code",
   "execution_count": 35,
   "metadata": {},
   "outputs": [
    {
     "data": {
      "text/plain": [
       "<tensorflow.python.training.checkpointable.util.CheckpointLoadStatus at 0x28f9fa93780>"
      ]
     },
     "execution_count": 35,
     "metadata": {},
     "output_type": "execute_result"
    }
   ],
   "source": [
    "# Load model\n",
    "lstm.load_weights(r'./saved_model/LSTM/lstm_20.HDF5')"
   ]
  },
  {
   "cell_type": "code",
   "execution_count": 43,
   "metadata": {},
   "outputs": [
    {
     "name": "stdout",
     "output_type": "stream",
     "text": [
      "On validate data: \n",
      "acc: 0.9653721143428619, macro pre: 0.9653743191963576, macro rec: 0.965451936554174, macro f1: 0.9653707433128357\n",
      "confuse matrix: \n",
      " [[11508   336]\n",
      " [  495 11659]]\n"
     ]
    }
   ],
   "source": [
    "pred = lstm.predict(input_validation)\n",
    "pred = np.argmax(pred, axis=1)\n",
    "print('On validate data: ')\n",
    "metrics(y_test, pred)"
   ]
  },
  {
   "cell_type": "code",
   "execution_count": 44,
   "metadata": {},
   "outputs": [
    {
     "name": "stdout",
     "output_type": "stream",
     "text": [
      "On train data: \n",
      "acc: 0.9795186998645692, macro pre: 0.979638443442769, macro rec: 0.9794951867174951, macro f1: 0.9795164767969401\n",
      "confuse matrix: \n",
      " [[47512   639]\n",
      " [ 1327 46512]]\n"
     ]
    }
   ],
   "source": [
    "pred_tr = lstm.predict(input_train)\n",
    "pred_tr = np.argmax(pred_tr, axis=1)\n",
    "print('On train data: ')\n",
    "metrics(y_train, pred_tr)"
   ]
  },
  {
   "cell_type": "markdown",
   "metadata": {},
   "source": [
    "#### Trained by SVM"
   ]
  },
  {
   "cell_type": "code",
   "execution_count": 38,
   "metadata": {},
   "outputs": [],
   "source": [
    "from sklearn import svm\n",
    "tr_data = [np.mean(embeddings_matrix[microblog], axis=0) for microblog in input_train]\n",
    "ts_data = [np.mean(embeddings_matrix[microblog], axis=0) for microblog in input_validation]"
   ]
  },
  {
   "cell_type": "code",
   "execution_count": 39,
   "metadata": {},
   "outputs": [
    {
     "name": "stderr",
     "output_type": "stream",
     "text": [
      "C:\\Users\\TomJx\\AppData\\Roaming\\Python\\Python36\\site-packages\\sklearn\\svm\\base.py:196: FutureWarning: The default value of gamma will change from 'auto' to 'scale' in version 0.22 to account better for unscaled features. Set gamma explicitly to 'auto' or 'scale' to avoid this warning.\n",
      "  \"avoid this warning.\", FutureWarning)\n"
     ]
    },
    {
     "data": {
      "text/plain": [
       "SVC(C=1.0, cache_size=200, class_weight=None, coef0=0.0,\n",
       "  decision_function_shape='ovr', degree=3, gamma='auto_deprecated',\n",
       "  kernel='rbf', max_iter=-1, probability=False, random_state=None,\n",
       "  shrinking=True, tol=0.001, verbose=False)"
      ]
     },
     "execution_count": 39,
     "metadata": {},
     "output_type": "execute_result"
    }
   ],
   "source": [
    "cls = svm.SVC()\n",
    "cls.fit(tr_data, y_train)"
   ]
  },
  {
   "cell_type": "code",
   "execution_count": 45,
   "metadata": {},
   "outputs": [],
   "source": [
    "svm_pred = cls.predict(ts_data)"
   ]
  },
  {
   "cell_type": "code",
   "execution_count": 46,
   "metadata": {},
   "outputs": [],
   "source": [
    "svm_pred_tr = cls.predict(tr_data)"
   ]
  },
  {
   "cell_type": "code",
   "execution_count": 47,
   "metadata": {},
   "outputs": [],
   "source": [
    "svm_pred = svm_pred.tolist()\n",
    "svm_pred_tr = svm_pred_tr.tolist()"
   ]
  },
  {
   "cell_type": "code",
   "execution_count": 48,
   "metadata": {},
   "outputs": [
    {
     "name": "stdout",
     "output_type": "stream",
     "text": [
      "On validate data: \n",
      "acc: 0.8853654471205934, macro pre: 0.8853648539255998, macro rec: 0.8853220882497647, macro f1: 0.8853403561653058\n",
      "confuse matrix: \n",
      " [[10446  1398]\n",
      " [ 1353 10801]]\n"
     ]
    }
   ],
   "source": [
    "print('On validate data: ')\n",
    "metrics(y_test, svm_pred)"
   ]
  },
  {
   "cell_type": "code",
   "execution_count": 50,
   "metadata": {},
   "outputs": [
    {
     "name": "stdout",
     "output_type": "stream",
     "text": [
      "On train data: \n",
      "acc: 0.8880925096364205, macro pre: 0.8881552637568203, macro rec: 0.8881141500586502, macro f1: 0.8880909180490264\n",
      "confuse matrix: \n",
      " [[42443  5708]\n",
      " [ 5034 42805]]\n"
     ]
    }
   ],
   "source": [
    "print('On train data: ')\n",
    "metrics(y_train, svm_pred_tr)"
   ]
  }
 ],
 "metadata": {
  "kernelspec": {
   "display_name": "Python 3",
   "language": "python",
   "name": "python3"
  },
  "language_info": {
   "codemirror_mode": {
    "name": "ipython",
    "version": 3
   },
   "file_extension": ".py",
   "mimetype": "text/x-python",
   "name": "python",
   "nbconvert_exporter": "python",
   "pygments_lexer": "ipython3",
   "version": "3.6.10"
  }
 },
 "nbformat": 4,
 "nbformat_minor": 2
}
